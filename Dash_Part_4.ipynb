{
 "cells": [
  {
   "attachments": {},
   "cell_type": "markdown",
   "metadata": {
    "colab_type": "text",
    "id": "view-in-github"
   },
   "source": [
    "<a href=\"https://colab.research.google.com/github/bettercodepaul/data-wrangling-praktikum/blob/master/Dash_Part_4.ipynb\" target=\"_parent\"><img src=\"https://colab.research.google.com/assets/colab-badge.svg\" alt=\"Open In Colab\"/></a>"
   ]
  },
  {
   "attachments": {},
   "cell_type": "markdown",
   "metadata": {
    "id": "BUPb5V_78Hse"
   },
   "source": [
    "# Dash Introduction\n",
    "Dash is a low-code framework for creating data-centric web applications, developed by Plotly. Dash aims to allow the user to work as much as possible in Python and is well-suited for use with Polars.\n",
    "\n",
    "In this notebook, the basics of Dash are introduced through examples. The official documentation can be found here:\n",
    "\n",
    "https://dash.plotly.com/\n",
    "\n",
    "*Note: To ensure Dash works correctly in the Colab environment, JavaScript and cookies should be enabled in the browser.*"
   ]
  },
  {
   "cell_type": "markdown",
   "metadata": {},
   "source": [
    "## Installation + Set-Up"
   ]
  },
  {
   "cell_type": "code",
   "execution_count": null,
   "metadata": {},
   "outputs": [],
   "source": [
    "# Download utility module und data\n",
    "import urllib.request\n",
    "import os.path\n",
    "UTILS_URL = \"https://github.com/bettercodepaul/data-wrangling-praktikum/raw/master/utils.py\"\n",
    "urllib.request.urlretrieve(UTILS_URL, os.path.basename(UTILS_URL))\n",
    "from utils import download_data, download_region_data\n",
    "download_data()"
   ]
  },
  {
   "cell_type": "code",
   "execution_count": null,
   "metadata": {},
   "outputs": [],
   "source": [
    "# install libraries\n",
    "!pip install -qr requirements.txt"
   ]
  },
  {
   "cell_type": "code",
   "execution_count": null,
   "metadata": {},
   "outputs": [],
   "source": [
    "# import polars\n",
    "import polars as pl\n",
    "# output up to 60 characters per column and do not abbreviate floating point numbers\n",
    "pl.Config(fmt_str_lengths=60, fmt_float=\"full\")"
   ]
  },
  {
   "cell_type": "code",
   "execution_count": null,
   "metadata": {},
   "outputs": [],
   "source": [
    "# import exercises and utility functions\n",
    "from utils import *\n",
    "from exercises_en import *"
   ]
  },
  {
   "cell_type": "code",
   "execution_count": null,
   "metadata": {},
   "outputs": [],
   "source": [
    "track_genres = pl.read_parquet(\"track-genres.parquet\")\n",
    "df = df = (\n",
    "    pl.read_csv(\"spotify-charts-2017-2021-global-top200.csv.gz\", try_parse_dates=True)\n",
    "    .join(track_genres, on=\"url\", how=\"left\")\n",
    ")\n",
    "df.head(2)"
   ]
  },
  {
   "cell_type": "code",
   "execution_count": null,
   "metadata": {
    "id": "sWHYXuXOcU5k"
   },
   "outputs": [],
   "source": [
    "from dash import dcc, html, Dash, _dash_renderer, Input, Output\n",
    "import plotly.express as px\n",
    "import dash_mantine_components as dmc\n",
    "# Set React version to 18.2.0 (required by Dash Mantine Components)\n",
    "_dash_renderer._set_react_version(\"18.2.0\")"
   ]
  },
  {
   "attachments": {},
   "cell_type": "markdown",
   "metadata": {
    "id": "aFow9JVUy7g9"
   },
   "source": [
    "## Static Apps"
   ]
  },
  {
   "attachments": {},
   "cell_type": "markdown",
   "metadata": {
    "id": "AoqvBlYn8Qmz"
   },
   "source": [
    "With Dash, very sophisticated interfaces with complex charts, selection and filter elements (e.g., dropdown menus, checkboxes, sliders, etc.), and layouts can be created.\n",
    "\n",
    "Normally, Dash is run as a regular Python script, and access to the generated visualization is done through the browser. Within this notebook/Colab environment, however, we use the inline display.\n",
    "\n",
    "In practice, you could easily package a Dash app into a container and run it, for example, in a Kubernetes cluster or cloud service.\n",
    "\n",
    "To start, here is a minimal Dash application:"
   ]
  },
  {
   "cell_type": "code",
   "execution_count": null,
   "metadata": {
    "id": "ytxx0akOi1BZ"
   },
   "outputs": [],
   "source": [
    "app = Dash(__name__)\n",
    "\n",
    "# The layout is defined similarly to HTML\n",
    "app.layout = html.Div(children=[\n",
    "    html.H1(children=\"Hello\"),\n",
    "    html.Div(children=\"This is your first Dash app.\")\n",
    "])\n",
    "\n",
    "# The Dash app is displayed within the notebook itself (jupyter_mode=\"inline\")\n",
    "app.run(jupyter_mode=\"inline\", jupyter_height=150)"
   ]
  },
  {
   "attachments": {},
   "cell_type": "markdown",
   "metadata": {
    "id": "W184w-viCgmT"
   },
   "source": [
    "For the layout in this notebook, we use **Dash Mantine Components** (https://www.dash-mantine-components.com). This does not change the concepts of Dash but makes the layout code much clearer in slightly more complex examples and brings more ready-made and consistently styled UI components."
   ]
  },
  {
   "cell_type": "code",
   "execution_count": null,
   "metadata": {
    "id": "4dy0LgFyCBRh"
   },
   "outputs": [],
   "source": [
    "app = Dash(external_stylesheets=dmc.styles.ALL)\n",
    "\n",
    "# We need to enclose all components in a MantineProvider\n",
    "app.layout = dmc.MantineProvider([\n",
    "     dmc.Title(\"Hello\", order=1),\n",
    "     dmc.Text(\"This is your first Dash app with Mantine.\")\n",
    "])\n",
    "\n",
    "# The Dash app is displayed within the notebook itself (jupyter_mode=\"inline\")\n",
    "app.run(jupyter_mode=\"inline\", jupyter_height=150)"
   ]
  },
  {
   "attachments": {},
   "cell_type": "markdown",
   "metadata": {
    "id": "J9MZQZRm9M8y"
   },
   "source": [
    "To create charts for our data, we use the `plotly.express` module, imported above as `px`. It allows the creation of interactive charts in the browser (commonly used Matplotlib, on the other hand, only generates static charts): https://plotly.com/python/plotly-express/"
   ]
  },
  {
   "cell_type": "code",
   "execution_count": null,
   "metadata": {},
   "outputs": [],
   "source": [
    "px.line(df.group_by(\"date\").agg(pl.col(\"streams\").sum()).sort(\"date\"), x=\"date\", y=\"streams\", height=300)"
   ]
  },
  {
   "cell_type": "markdown",
   "metadata": {},
   "source": [
    "With a `dcc.Graph`, we can also display the chart in a Dash app."
   ]
  },
  {
   "cell_type": "code",
   "execution_count": null,
   "metadata": {},
   "outputs": [],
   "source": [
    "app = Dash(external_stylesheets=dmc.styles.ALL)\n",
    "\n",
    "app.layout = dmc.MantineProvider([\n",
    "     dmc.Title(\"Dash-App mit Diagramm\", order=5),\n",
    "     # Diagram is passed with the attribute figure\n",
    "     dcc.Graph(id=\"streams-chart\", figure=px.line(df.group_by(\"date\").agg(pl.col(\"streams\").sum()).sort(\"date\"), x=\"date\", y=\"streams\", height=300))\n",
    "])\n",
    "\n",
    "app.run(jupyter_mode=\"inline\", jupyter_height=350)"
   ]
  },
  {
   "attachments": {},
   "cell_type": "markdown",
   "metadata": {
    "id": "MlshLO0xYBzA"
   },
   "source": [
    "### Excercise\n",
    "\n",
    "Now it's your turn:\n",
    "\n"
   ]
  },
  {
   "cell_type": "code",
   "execution_count": null,
   "metadata": {
    "id": "iX7-jL5921TM"
   },
   "outputs": [],
   "source": [
    "q26.question()"
   ]
  },
  {
   "cell_type": "code",
   "execution_count": null,
   "metadata": {},
   "outputs": [],
   "source": [
    "q26_df = ..."
   ]
  },
  {
   "cell_type": "code",
   "execution_count": null,
   "metadata": {},
   "outputs": [],
   "source": [
    "q26.check(q26_df)"
   ]
  },
  {
   "cell_type": "code",
   "execution_count": null,
   "metadata": {},
   "outputs": [],
   "source": [
    "q27.question()"
   ]
  },
  {
   "cell_type": "code",
   "execution_count": null,
   "metadata": {},
   "outputs": [],
   "source": [
    "q27_fig = ...\n",
    "q27_fig"
   ]
  },
  {
   "cell_type": "code",
   "execution_count": null,
   "metadata": {},
   "outputs": [],
   "source": [
    "q27.check(q27_fig)"
   ]
  },
  {
   "attachments": {},
   "cell_type": "markdown",
   "metadata": {
    "id": "UJjLNhQ5Ab9C"
   },
   "source": [
    "## Interactive Apps with Callbacks\n",
    "A higher degree of interaction in Dash is achieved through callbacks. With callbacks, user inputs can be responded to, for example, to adjust another UI component like a chart when a selection is made in a dropdown component. Here is a minimal example:"
   ]
  },
  {
   "cell_type": "code",
   "execution_count": null,
   "metadata": {
    "id": "EbHyBfgLBFvV"
   },
   "outputs": [],
   "source": [
    "app = Dash(external_stylesheets=dmc.styles.ALL)\n",
    "\n",
    "# For callbacks, the ids of the components are important\n",
    "app.layout = dmc.MantineProvider([\n",
    "    dmc.TextInput(id=\"my-input\", value=None, label=\"Your Input\", placeholder=\"Enter any text here...\"),\n",
    "    dmc.TextInput(id=\"my-output\", value=None, label=\"My Output\", disabled=True)\n",
    "])\n",
    "\n",
    "\n",
    "# The callback is called by the client as soon as a property of the input changes\n",
    "# The return value of the callback is written by the client into the property of the output\n",
    "@app.callback(\n",
    "    Output(component_id=\"my-output\", component_property=\"value\"),\n",
    "    Input(component_id=\"my-input\", component_property=\"value\")\n",
    ")\n",
    "def update_output_div(input_value):\n",
    "    output_value = input_value\n",
    "    return output_value\n",
    "\n",
    "app.run(jupyter_mode=\"inline\", jupyter_height=150)"
   ]
  },
  {
   "attachments": {},
   "cell_type": "markdown",
   "metadata": {
    "id": "oHSZWEfVhNaT"
   },
   "source": [
    "Callbacks are annotated in Dash with `@app.callback` and the Output and Input parameters. The annotation links the callback function to the corresponding elements specified in the layout via ID and property values. All callbacks are executed once when the application starts to initialize elements.\n",
    "\n",
    "<pre>\n",
    "# For callbacks, the ids of the components are important\n",
    "app.layout = dmc.MantineProvider([\n",
    "     dmc.TextInput(id=<span style=\"color:#4169E1\">\"my-input\"</span>, <span style=\"color:#4169E1\">value</span>=<span style=\"color:white; background-color:#4169E1\">None</span>, label=\"Your Input\", placeholder=\"Enter any text here...\"),\n",
    "     dmc.TextInput(id=<span style=\"color:#C04000\">\"my-output\"</span>, <span style=\"color:#C04000\">value</span>=<span style=\"color:white; background-color:#C04000\">None</span>, label=\"My Output\", disabled=True)\n",
    "])\n",
    "\n",
    "\n",
    "# The callback is called by the client as soon as a property of the input changes\n",
    "# The return value of the callback is written by the client into the property of the output\n",
    "@app.callback(\n",
    "    Output(component_id=<span style=\"color:#C04000\">\"my-output\"</span>, component_property=<span style=\"color:#C04000\">\"value\"</span>),\n",
    "    Input(component_id=<span style=\"color:#4169E1\">\"my-input\"</span>, component_property=<span style=\"color:#4169E1\">\"value\"</span>)\n",
    ")\n",
    "def update_output_div(<span style=\"color:white; background-color:#4169E1\">input_value</span>):\n",
    "    output_value = input_value\n",
    "    return <span style=\"color:white; background-color:#C04000\">output_value</span>\n",
    "</pre>"
   ]
  },
  {
   "attachments": {},
   "cell_type": "markdown",
   "metadata": {
    "id": "Gjr9n0MVNhZG"
   },
   "source": [
    "Properties specify the attributes of the layout elements that are relevant for the callback function. Multiple attributes can also be changed simultaneously in the output; an example of this will be provided at the end of the notebook.\n",
    "\n",
    "Using callbacks, we will now build a simple filtering option:"
   ]
  },
  {
   "cell_type": "code",
   "execution_count": null,
   "metadata": {
    "id": "hODE5A2aAt_J"
   },
   "outputs": [],
   "source": [
    "all_artists = df.select(pl.col(\"artist\").str.split(\", \")).get_column(\"artist\").explode().unique().sort().to_list()\n",
    "\n",
    "app = Dash(external_stylesheets=dmc.styles.ALL)\n",
    "\n",
    "def get_streams_chart(artist):\n",
    "    filter_expr =  pl.col(\"artist\").str.contains(artist) if artist else pl.lit(True)\n",
    "    data = df.filter(filter_expr).group_by(\"date\").agg(pl.col(\"streams\").sum()).sort(\"date\")\n",
    "    return px.line(data, x=\"date\", y=\"streams\", height=300, title=f\"Daily Streams for {artist or 'all artists'}\")\n",
    "\n",
    "app.layout = dmc.MantineProvider([\n",
    "    dmc.Title(\"Spotify Explorer\", order=3, mb=20),\n",
    "    dmc.Select(id=\"artist-select\", label=\"Artist\", placeholder=\"Select one\", data=all_artists, w=\"400\", searchable=True, clearable=True, mb=10),\n",
    "    dcc.Graph(id=\"streams-chart\", figure=get_streams_chart(None))\n",
    "])\n",
    "\n",
    "@app.callback(\n",
    "    Output(component_id=\"streams-chart\", component_property=\"figure\"),\n",
    "    Input(component_id=\"artist-select\", component_property=\"value\")\n",
    ")\n",
    "def update_streams_per_month(selected_artist):\n",
    "    return get_streams_chart(selected_artist)\n",
    "\n",
    "app.run(jupyter_mode=\"inline\", jupyter_height=500)"
   ]
  },
  {
   "attachments": {},
   "cell_type": "markdown",
   "metadata": {
    "id": "JY2PTUcn3lrd"
   },
   "source": [
    "### Multiple Inputs\n",
    "We also want to filter by title."
   ]
  },
  {
   "cell_type": "markdown",
   "metadata": {},
   "source": [
    "Implementation in the Dash app with additional input components."
   ]
  },
  {
   "cell_type": "code",
   "execution_count": null,
   "metadata": {
    "id": "V_ZmcoOP4jwL"
   },
   "outputs": [],
   "source": [
    "all_artists = df.select(pl.col(\"artist\").str.split(\", \")).get_column(\"artist\").explode().unique().sort().to_list()\n",
    "all_titles = df.select(pl.col(\"title\").unique()).get_column(\"title\").sort().to_list()\n",
    "\n",
    "app = Dash(external_stylesheets=dmc.styles.ALL)\n",
    "\n",
    "def get_streams_chart(artist, title):\n",
    "    filter_expr = pl.col(\"artist\").str.contains(artist) if artist else pl.lit(True)\n",
    "    filter_expr = filter_expr & pl.col(\"title\").eq(title) if title else filter_expr\n",
    "    data = df.filter(filter_expr).group_by(\"date\").agg(pl.col(\"streams\").sum()).sort(\"date\")\n",
    "    return px.line(data, x=\"date\", y=\"streams\", height=300, title=f\"Daily Streams for {artist or 'all artists'} - {title or 'all titles'}\")\n",
    "\n",
    "app.layout = dmc.MantineProvider([\n",
    "    dmc.Title(\"Spotify Explorer\", order=3, mb=20),\n",
    "    dmc.Group([\n",
    "        dmc.Select(id=\"artist-select\", label=\"Artist\", placeholder=\"Select one\", data=all_artists, searchable=True, clearable=True),\n",
    "        dmc.Select(id=\"title-select\", label=\"Title\", placeholder=\"Select one\", data=all_titles, searchable=True, clearable=True)\n",
    "    ], grow=True, mb=10),\n",
    "    dcc.Graph(id=\"streams-chart\", figure=get_streams_chart(None, None))\n",
    "])\n",
    "\n",
    "@app.callback(\n",
    "    Output(component_id=\"streams-chart\", component_property=\"figure\"),\n",
    "    Input(component_id=\"artist-select\", component_property=\"value\"),\n",
    "    Input(component_id=\"title-select\", component_property=\"value\")\n",
    ")\n",
    "def update_streams_per_month(selected_artist, selected_title):\n",
    "    return get_streams_chart(selected_artist, selected_title)\n",
    "\n",
    "app.run(jupyter_mode=\"inline\", jupyter_height=500)"
   ]
  },
  {
   "cell_type": "markdown",
   "metadata": {},
   "source": [
    "We can also restrict the displayed options based on the selected options."
   ]
  },
  {
   "cell_type": "code",
   "execution_count": null,
   "metadata": {},
   "outputs": [],
   "source": [
    "all_artists = df.select(pl.col(\"artist\").str.split(\", \")).get_column(\"artist\").explode().unique().sort().to_list()\n",
    "all_titles = df.select(pl.col(\"title\").unique()).get_column(\"title\").sort().to_list()\n",
    "\n",
    "app = Dash(external_stylesheets=dmc.styles.ALL)\n",
    "\n",
    "def get_streams_chart(artist, title):\n",
    "    filter_expr = pl.col(\"artist\").str.contains(artist) if artist else pl.lit(True)\n",
    "    filter_expr = filter_expr & pl.col(\"title\").eq(title) if title else filter_expr\n",
    "    data = df.filter(filter_expr).group_by(\"date\").agg(pl.col(\"streams\").sum()).sort(\"date\")\n",
    "    return px.line(data, x=\"date\", y=\"streams\", height=300, title=f\"Daily Streams for {artist or 'all artists'} - {title or 'all titles'}\")\n",
    "\n",
    "app.layout = dmc.MantineProvider([\n",
    "    dmc.Title(\"Spotify Explorer\", order=3, mb=20),\n",
    "    dmc.Group([\n",
    "        dmc.Select(id=\"artist-select\", label=\"Artist\", placeholder=\"Select one\", data=all_artists, searchable=True, clearable=True),\n",
    "        dmc.Select(id=\"title-select\", label=\"Title\", placeholder=\"Select one\", data=all_titles, searchable=True, clearable=True)\n",
    "    ], grow=True, mb=10),\n",
    "    dcc.Graph(id=\"streams-chart\", figure=get_streams_chart(None, None))\n",
    "])\n",
    "\n",
    "@app.callback(\n",
    "    Output(component_id=\"streams-chart\", component_property=\"figure\"),\n",
    "    Output(component_id=\"artist-select\", component_property=\"data\"), # possible artists for the current filter\n",
    "    Output(component_id=\"title-select\", component_property=\"data\"), # possible titles for the current filter\n",
    "    Input(component_id=\"artist-select\", component_property=\"value\"),\n",
    "    Input(component_id=\"title-select\", component_property=\"value\")\n",
    ")\n",
    "def update_streams_per_month(selected_artist, selected_title):\n",
    "    # determine possible titles for the current filter\n",
    "    possible_titles = df.filter(pl.col(\"artist\").str.contains(selected_artist) if selected_artist else pl.lit(True)).select(pl.col(\"title\").unique()).get_column(\"title\").sort().to_list()\n",
    "    # determine possible artists for the current filter\n",
    "    possible_artists = df.filter(pl.col(\"title\").eq(selected_title) if selected_title else pl.lit(True)).select(pl.col(\"artist\").str.split(\", \")).get_column(\"artist\").explode().unique().sort().to_list()\n",
    "    return get_streams_chart(selected_artist, selected_title), possible_artists, possible_titles\n",
    "\n",
    "app.run(jupyter_mode=\"inline\", jupyter_height=500)"
   ]
  },
  {
   "attachments": {},
   "cell_type": "markdown",
   "metadata": {
    "id": "xP8_eppteqmu"
   },
   "source": [
    "### Exercise"
   ]
  },
  {
   "cell_type": "code",
   "execution_count": null,
   "metadata": {
    "id": "9G6Wx9oIf4LC"
   },
   "outputs": [],
   "source": [
    "q28.question()"
   ]
  },
  {
   "cell_type": "code",
   "execution_count": null,
   "metadata": {},
   "outputs": [],
   "source": [
    "q28.hint()"
   ]
  },
  {
   "attachments": {},
   "cell_type": "markdown",
   "metadata": {
    "id": "yk96h_O3D8Jp"
   },
   "source": [
    "## IFrame\n",
    "\n",
    "In order to be able to listen to the songs, we integrate an IFrame containing the Spotify Player, that will play the most-streamed song."
   ]
  },
  {
   "cell_type": "code",
   "execution_count": null,
   "metadata": {},
   "outputs": [],
   "source": [
    "all_artists = df.select(pl.col(\"artist\").str.split(\", \")).get_column(\"artist\").explode().unique().sort().to_list()\n",
    "all_titles = df.select(pl.col(\"title\").unique()).get_column(\"title\").sort().to_list()\n",
    "\n",
    "app = Dash(external_stylesheets=dmc.styles.ALL)\n",
    "\n",
    "def filter_data(artist, title, rank_1_only):\n",
    "    filter_expr = pl.col(\"artist\").str.contains(artist) if artist else pl.lit(True)\n",
    "    filter_expr = filter_expr & pl.col(\"title\").eq(title) if title else filter_expr\n",
    "    # consider all songs that have been at least once at #1\n",
    "    filter_expr = filter_expr & pl.col(\"rank\").min().over(\"artist\", \"title\").eq(1) if rank_1_only else filter_expr\n",
    "    return df.filter(filter_expr)\n",
    "\n",
    "def get_streams_chart(filtered_data, title):\n",
    "    data = filtered_data.group_by(\"date\").agg(pl.col(\"streams\").sum()).sort(\"date\")\n",
    "    return px.line(data, x=\"date\", y=\"streams\", height=300, title=title)\n",
    "\n",
    "def get_top_song_player(filtered_data):\n",
    "    top_song = filtered_data.group_by(\"url\").agg(pl.col(\"streams\").sum()).top_k(1, by=\"streams\")\n",
    "    return play_song(top_song)\n",
    "\n",
    "app.layout = dmc.MantineProvider([\n",
    "    dmc.Title(\"Spotify Explorer\", order=3, mb=20),\n",
    "    dmc.Group([\n",
    "        dmc.Select(id=\"artist-select\", label=\"Artist\", placeholder=\"Select one\", data=all_artists, searchable=True, clearable=True),\n",
    "        dmc.Select(id=\"title-select\", label=\"Title\", placeholder=\"Select one\", data=all_titles, searchable=True, clearable=True),\n",
    "        # Switch for the option to show only songs that have been at least once at #1\n",
    "        dmc.Switch(id=\"rank-1-switch\", label=\"#1 hits only\", checked=False)\n",
    "    ], grow=True, mb=10),\n",
    "    dcc.Graph(id=\"streams-chart\", figure=get_streams_chart(df, \"Daily Streams for all artists - 'all titles'\")),\n",
    "    dmc.Title(\"Most streamed title\", order=4, mb=10),\n",
    "    html.Iframe(id=\"player-iframe\", src=None, width=\"100%\", height=\"80\", style={\"border\": \"none\"})\n",
    "])\n",
    "\n",
    "@app.callback(\n",
    "    Output(component_id=\"streams-chart\", component_property=\"figure\"),\n",
    "    Output(component_id=\"artist-select\", component_property=\"data\"),\n",
    "    Output(component_id=\"title-select\", component_property=\"data\"),\n",
    "    Output(component_id=\"player-iframe\", component_property=\"src\"),\n",
    "    Input(component_id=\"artist-select\", component_property=\"value\"),\n",
    "    Input(component_id=\"title-select\", component_property=\"value\"),\n",
    "    Input(component_id=\"rank-1-switch\", component_property=\"checked\")\n",
    ")\n",
    "def update(selected_artist, selected_title, rank_1_only):\n",
    "    # consider only songs that have been at least once at #1\n",
    "    tmp_df = df.filter(pl.col(\"rank\").eq(1)) if rank_1_only else df\n",
    "    # determine possible titles for the current filter\n",
    "    possible_titles = tmp_df.filter(pl.col(\"artist\").str.contains(selected_artist) if selected_artist else pl.lit(True)).select(pl.col(\"title\").unique()).get_column(\"title\").sort().to_list()\n",
    "    # determine possible artists for the current filter\n",
    "    possible_artists = tmp_df.filter(pl.col(\"title\").eq(selected_title) if selected_title else pl.lit(True)).select(pl.col(\"artist\").str.split(\", \")).get_column(\"artist\").explode().unique().sort().to_list()\n",
    "    filtered_data = filter_data(selected_artist, selected_title, rank_1_only)\n",
    "    streams_chart_figure = get_streams_chart(filtered_data, f\"Daily Streams for {selected_artist or 'all artists'} - {selected_title or 'all titles'}\")\n",
    "    player = get_top_song_player(filtered_data)\n",
    "    return streams_chart_figure, possible_artists, possible_titles, player.src\n",
    "\n",
    "app.run(jupyter_mode=\"inline\", jupyter_height=550)"
   ]
  },
  {
   "cell_type": "markdown",
   "metadata": {},
   "source": [
    "## Tables\n",
    "\n",
    "We can also integrate a table, that shows an overview of the songs. We use the feature rich library AgGrid, that is also available for Dash: https://dash.plotly.com/dash-ag-grid"
   ]
  },
  {
   "cell_type": "code",
   "execution_count": null,
   "metadata": {},
   "outputs": [],
   "source": [
    "import dash_ag_grid as dag"
   ]
  },
  {
   "cell_type": "code",
   "execution_count": null,
   "metadata": {},
   "outputs": [],
   "source": [
    "all_artists = df.select(pl.col(\"artist\").str.split(\", \")).get_column(\"artist\").explode().unique().sort().to_list()\n",
    "all_titles = df.select(pl.col(\"title\").unique()).get_column(\"title\").sort().to_list()\n",
    "\n",
    "app = Dash(external_stylesheets=dmc.styles.ALL)\n",
    "\n",
    "def filter_data(artist, title, rank_1_only):\n",
    "    filter_expr = pl.col(\"artist\").str.contains(artist) if artist else pl.lit(True)\n",
    "    filter_expr = filter_expr & pl.col(\"title\").eq(title) if title else filter_expr\n",
    "    # consider all songs that have been at least once at #1\n",
    "    filter_expr = filter_expr & pl.col(\"rank\").min().over(\"artist\", \"title\").eq(1) if rank_1_only else filter_expr\n",
    "    return df.filter(filter_expr)\n",
    "\n",
    "def get_streams_chart(filtered_data, title):\n",
    "    data = filtered_data.group_by(\"date\").agg(pl.col(\"streams\").sum()).sort(\"date\")\n",
    "    return px.line(data, x=\"date\", y=\"streams\", height=300, title=title)\n",
    "\n",
    "def get_top_song_player(filtered_data):\n",
    "    top_song = filtered_data.group_by(\"url\").agg(pl.col(\"streams\").sum()).top_k(1, by=\"streams\")\n",
    "    return play_song(top_song)\n",
    "\n",
    "def get_grid_data(filtered_data):\n",
    "    grid_data = (\n",
    "        filtered_data\n",
    "        .group_by(\"artist\", \"title\")\n",
    "        .agg(\n",
    "            pl.col(\"streams\").sum(),\n",
    "            pl.col(\"rank\").min().alias(\"highest rank\")\n",
    "        )\n",
    "        .top_k(k=10, by=\"streams\")\n",
    "        .sort(\"streams\", descending=True)\n",
    "    )\n",
    "    return grid_data \n",
    "\n",
    "def get_grid_component(grid_data):\n",
    "    column_defs = [{\"field\": column_name} for column_name in grid_data.columns]\n",
    "    return dag.AgGrid(\n",
    "        id=\"top-songs-grid\",\n",
    "        rowData=grid_data.to_dicts(),\n",
    "        columnDefs=column_defs,\n",
    "        columnSize=\"autoSize\",\n",
    "    )\n",
    "\n",
    "app.layout = dmc.MantineProvider([\n",
    "    dmc.Title(\"Spotify Explorer\", order=3, mb=20),\n",
    "    dmc.Group([\n",
    "        dmc.Select(id=\"artist-select\", label=\"Artist\", placeholder=\"Select one\", data=all_artists, searchable=True, clearable=True),\n",
    "        dmc.Select(id=\"title-select\", label=\"Title\", placeholder=\"Select one\", data=all_titles, searchable=True, clearable=True),\n",
    "        # Switch for the option to show only songs that have been at least once at #1\n",
    "        dmc.Switch(id=\"rank-1-switch\", label=\"#1 hits only\", checked=False)\n",
    "    ], grow=True, mb=10),\n",
    "    dcc.Graph(id=\"streams-chart\", figure=get_streams_chart(df, \"Daily Streams for all artists - 'all titles'\")),\n",
    "    dmc.Title(\"Most streamed titles\", order=4, mb=10),\n",
    "    html.Iframe(id=\"player-iframe\", src=None, width=\"100%\", height=\"80\", style={\"border\": \"none\"}),\n",
    "    dmc.Space(h=10),\n",
    "    get_grid_component(get_grid_data(df))\n",
    "])\n",
    "\n",
    "@app.callback(\n",
    "    Output(component_id=\"streams-chart\", component_property=\"figure\"),\n",
    "    Output(component_id=\"artist-select\", component_property=\"data\"),\n",
    "    Output(component_id=\"title-select\", component_property=\"data\"),\n",
    "    Output(component_id=\"player-iframe\", component_property=\"src\"),\n",
    "    Output(component_id=\"top-songs-grid\", component_property=\"rowData\"),\n",
    "    Input(component_id=\"artist-select\", component_property=\"value\"),\n",
    "    Input(component_id=\"title-select\", component_property=\"value\"),\n",
    "    Input(component_id=\"rank-1-switch\", component_property=\"checked\")\n",
    ")\n",
    "def update(selected_artist, selected_title, rank_1_only):\n",
    "    # consider only songs that have been at least once at #1\n",
    "    tmp_df = df.filter(pl.col(\"rank\").eq(1)) if rank_1_only else df\n",
    "    # determine possible titles for the current filter\n",
    "    possible_titles = tmp_df.filter(pl.col(\"artist\").str.contains(selected_artist) if selected_artist else pl.lit(True)).select(pl.col(\"title\").unique()).get_column(\"title\").sort().to_list()\n",
    "    # determine possible artists for the current filter\n",
    "    possible_artists = tmp_df.filter(pl.col(\"title\").eq(selected_title) if selected_title else pl.lit(True)).select(pl.col(\"artist\").str.split(\", \")).get_column(\"artist\").explode().unique().sort().to_list()\n",
    "    filtered_data = filter_data(selected_artist, selected_title, rank_1_only)\n",
    "    streams_chart_figure = get_streams_chart(filtered_data, f\"Daily Streams for {selected_artist or 'all artists'} - {selected_title or 'all titles'}\")\n",
    "    player = get_top_song_player(filtered_data)\n",
    "    grid_data = get_grid_data(filtered_data)\n",
    "    return streams_chart_figure, possible_artists, possible_titles, player.src, grid_data.to_dicts()\n",
    "\n",
    "app.run(jupyter_mode=\"inline\", jupyter_height=1000)"
   ]
  },
  {
   "cell_type": "markdown",
   "metadata": {},
   "source": [
    "# Final Open-topic Exercise\n",
    "\n",
    "You now have various options:\n",
    "\n",
    "- Extend the Spotify Explorer according to your ideas, for example...\n",
    "    - Options for displaying and filtering by genres\n",
    "    - Additional visualizations (trend of ranking, ...)\n",
    "    - Additional filters by time (year, day, weekday, month, ...)\n",
    "    - Additional information in the table (number of days at No. 1, in the Top 10, ...)\n",
    "    - Additional column in the table where the song from the row can be played with a click\n",
    "    - Get inspired by the [Mantine Components](https://www.dash-mantine-components.com)\n",
    "    - Integrate a larger dataset with Top 200 per country\n",
    "        - `download_region_data()`\n",
    "        - `pl.read_parquet(\"spotify-charts-2017-2021.parquet\").with_columns(pl.col(\"streams\").cast(pl.Int64))`\n",
    "- Design a Dash application that would help you in the project\n",
    "- Install a Python environment on your local computer (see below)\n",
    "- Continue working on the exercises for Polars, possibly with the third notebook\n",
    "    - [Part 1](https://colab.research.google.com/github/bettercodepaul/data-wrangling-praktikum/blob/master/Polars_Part_1.ipynb) – Polars: Loading, Selecting, Filtering & Sorting\n",
    "    - [Part 2](https://colab.research.google.com/github/bettercodepaul/data-wrangling-praktikum/blob/master/Polars_Part_2.ipynb) – Polars: Aggregations, Joins & Reshaping\n",
    "    - [Part 3](https://colab.research.google.com/github/bettercodepaul/data-wrangling-praktikum/blob/master/Polars_Part_3.ipynb) – Polars: Custom Expressions, Lazy Mode and Streaming\n"
   ]
  },
  {
   "attachments": {},
   "cell_type": "markdown",
   "metadata": {
    "id": "lFGxUzAHv443"
   },
   "source": [
    "## Further Resources\n",
    "\n",
    "* Dash Gallery (Extensive collection of examples for Dash apps, including source code): https://dash-gallery.plotly.host/Portal/\n",
    "* Local Python environment: uv (https://docs.astral.sh/uv/)\n",
    "* Local Python IDE: VSCode (https://code.visualstudio.com/ with [Python Extension](https://marketplace.visualstudio.com/items?itemName=ms-python.python))\n",
    "* Database access: SQLAlchemy (https://www.sqlalchemy.org/)\n"
   ]
  },
  {
   "cell_type": "markdown",
   "metadata": {},
   "source": []
  }
 ],
 "metadata": {
  "colab": {
   "collapsed_sections": [],
   "include_colab_link": true,
   "name": "dashBootstrapNotebook.ipynb",
   "provenance": [],
   "toc_visible": true
  },
  "kernelspec": {
   "display_name": ".venv",
   "language": "python",
   "name": "python3"
  },
  "language_info": {
   "codemirror_mode": {
    "name": "ipython",
    "version": 3
   },
   "file_extension": ".py",
   "mimetype": "text/x-python",
   "name": "python",
   "nbconvert_exporter": "python",
   "pygments_lexer": "ipython3",
   "version": "3.10.13"
  }
 },
 "nbformat": 4,
 "nbformat_minor": 0
}
